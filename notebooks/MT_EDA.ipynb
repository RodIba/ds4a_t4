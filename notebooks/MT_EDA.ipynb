{
 "cells": [
  {
   "cell_type": "code",
   "execution_count": null,
   "metadata": {},
   "outputs": [],
   "source": [
    "import snowflake as sf \n",
    "import pandas as pd\n",
    "from sqlalchemy import create_engine\n",
    "from pandas_profiling import ProfileReport\n",
    "import warnings\n",
    "warnings.filterwarnings(\"ignore\")"
   ]
  },
  {
   "cell_type": "markdown",
   "metadata": {},
   "source": [
    "### 1. Fetch data from Snowflake"
   ]
  },
  {
   "cell_type": "code",
   "execution_count": 2,
   "metadata": {},
   "outputs": [
    {
     "name": "stdout",
     "output_type": "stream",
     "text": [
      "Succesfuly connected to Snowflake\n",
      "Establish connection to snowflake is succesful\n"
     ]
    }
   ],
   "source": [
    "# Establish connection\n",
    "engine = create_engine(\n",
    "  'snowflake://{user}:{password}@{account}/'.format(\n",
    "    user = '',\n",
    "    password = '',\n",
    "    account = '',\n",
    "  )\n",
    ")\n",
    "\n",
    "# Try connection\n",
    "try:\n",
    "    connection = engine.connect()\n",
    "    print('Succesfuly connected to Snowflake')\n",
    "except:\n",
    "    print('Connection failed, check credentials')\n",
    "    \n",
    "# Set a cursor\n",
    "con = sf.connector.connect(user = '',\n",
    "                           password = '',\n",
    "                           account = '',\n",
    "                           warehouse='',\n",
    "                           database='',\n",
    "                           schema=''\n",
    "                           )\n",
    "sfq = con.cursor()\n",
    "print('Establish connection to snowflake is succesful')\n",
    "\n",
    "\n",
    "# Function to fetch results as pandas dataframe \n",
    "def fetch_results(connection, query:str):\n",
    "    connection.execute(query)\n",
    "    return connection.fetch_pandas_all()"
   ]
  },
  {
   "cell_type": "code",
   "execution_count": 6,
   "metadata": {},
   "outputs": [
    {
     "name": "stdout",
     "output_type": "stream",
     "text": [
      "Retrieved data is succesful\n"
     ]
    }
   ],
   "source": [
    "# Fetch results according to query\n",
    "query1 = '''SELECT DISTINCT TD.STATE, T.CLIENT_ID, MD.\"status\" AS CLIENT_STATUS, MD.INDUSTRY AS CLIENT_INDUSTRY, T.RECEIPT_NO, TD.STATUS_CODE TRANSACTION_STATUS_CODE, TD.IS_CHARGEBACK, CD.CARD_TYPE, CD.ISSUER, CD.COUNTRY_CODE, T.READER_ID, RD.READER_TYPE, T.CREATED_AT, T.AMOUNT FROM (SELECT * FROM TRANSACTIONS WHERE CLIENT_ID IN (SELECT DISTINCT(CLIENT_ID) FROM MERCHANT_DETAIL WHERE EXTRACT(YEAR FROM ONBOARDING_DATE) = 2017 AND EXTRACT(MONTH FROM ONBOARDING_DATE) = 1) AND EXTRACT(YEAR FROM CREATED_AT) = 2017) T INNER JOIN TRANSACTION_DETAIL TD USING (RECEIPT_NO) INNER JOIN CARD_DETAIL CD ON TD.RECEIPT_NO = CD.RECEIPT_NO INNER JOIN READER_DETAIL RD ON T.READER_ID = RD.READER_ID INNER JOIN MERCHANT_DETAIL MD ON T.CLIENT_ID = MD.CLIENT_ID'''\n",
    "q_1 = fetch_results(sfq, query1)\n",
    "print('Retrieved data is succesful')"
   ]
  },
  {
   "cell_type": "markdown",
   "metadata": {},
   "source": [
    "### 2. Basic EDA\n",
    "\n",
    "`query1` brings all the information of the transactions for the year 2017 for those users that started on January 2017. The relevant features are:\n",
    "\n",
    "* `CLIENT_STATUS`. The actual status of the user.\n",
    "* `CLIENT_INDUSTRY`. The industry to which the user belongs.\n",
    "* `TRANSACTION_STATUS_CODE`. The status of the transaction where 1 indicates a valid transaction.\n",
    "* `IS_CHARGEBACK`. Binary value that indicates wheter or not the transaction is a chargeback.\n",
    "* `CARD_TYPE`. Type of the card, for example, debit or credit.\n",
    "* `ISSUER`. The bank to which the card belongs to. \n",
    "* `READER_TYPE`. The name of the clip device used in that transaction.\n",
    "\n",
    "In order to get a first general idea of the variables let's use the `Profile Report` function from the `pandas profiling` package, which allow us to see the distribution of each variable, missing values, interactions and correlations between them. Then, as some details seem interesting to us we're going to get deeper into each one of this details. "
   ]
  },
  {
   "cell_type": "code",
   "execution_count": 9,
   "metadata": {},
   "outputs": [
    {
     "data": {
      "application/vnd.jupyter.widget-view+json": {
       "model_id": "b17182f7a8264d89a4e4fdc63ae06d8c",
       "version_major": 2,
       "version_minor": 0
      },
      "text/plain": [
       "HBox(children=(FloatProgress(value=0.0, description='variables', max=14.0, style=ProgressStyle(description_wid…"
      ]
     },
     "metadata": {},
     "output_type": "display_data"
    },
    {
     "name": "stdout",
     "output_type": "stream",
     "text": [
      "\n"
     ]
    },
    {
     "data": {
      "application/vnd.jupyter.widget-view+json": {
       "model_id": "52fefa6b9bd24f0385b5b9662f396a43",
       "version_major": 2,
       "version_minor": 0
      },
      "text/plain": [
       "HBox(children=(FloatProgress(value=0.0, description='correlations', max=6.0, style=ProgressStyle(description_w…"
      ]
     },
     "metadata": {},
     "output_type": "display_data"
    },
    {
     "name": "stdout",
     "output_type": "stream",
     "text": [
      "\n"
     ]
    },
    {
     "data": {
      "application/vnd.jupyter.widget-view+json": {
       "model_id": "48ba05e07414473eb85552256996f150",
       "version_major": 2,
       "version_minor": 0
      },
      "text/plain": [
       "HBox(children=(FloatProgress(value=0.0, description='interactions [continuous]', max=4.0, style=ProgressStyle(…"
      ]
     },
     "metadata": {},
     "output_type": "display_data"
    },
    {
     "name": "stdout",
     "output_type": "stream",
     "text": [
      "\n"
     ]
    },
    {
     "data": {
      "application/vnd.jupyter.widget-view+json": {
       "model_id": "d138a8d818de4f9ebfc28062b70402e0",
       "version_major": 2,
       "version_minor": 0
      },
      "text/plain": [
       "HBox(children=(FloatProgress(value=0.0, description='table', max=1.0, style=ProgressStyle(description_width='i…"
      ]
     },
     "metadata": {},
     "output_type": "display_data"
    },
    {
     "name": "stdout",
     "output_type": "stream",
     "text": [
      "\n"
     ]
    },
    {
     "data": {
      "application/vnd.jupyter.widget-view+json": {
       "model_id": "bba01be3ba0844ac8c22abc05696419a",
       "version_major": 2,
       "version_minor": 0
      },
      "text/plain": [
       "HBox(children=(FloatProgress(value=0.0, description='missing', max=4.0, style=ProgressStyle(description_width=…"
      ]
     },
     "metadata": {},
     "output_type": "display_data"
    },
    {
     "name": "stdout",
     "output_type": "stream",
     "text": [
      "\n"
     ]
    },
    {
     "data": {
      "application/vnd.jupyter.widget-view+json": {
       "model_id": "389193622d3e4dc981487bf6bdcde7e4",
       "version_major": 2,
       "version_minor": 0
      },
      "text/plain": [
       "HBox(children=(FloatProgress(value=0.0, description='warnings', max=3.0, style=ProgressStyle(description_width…"
      ]
     },
     "metadata": {},
     "output_type": "display_data"
    },
    {
     "name": "stdout",
     "output_type": "stream",
     "text": [
      "\n"
     ]
    },
    {
     "data": {
      "application/vnd.jupyter.widget-view+json": {
       "model_id": "04d15910da3f42c48211861d1d63a58a",
       "version_major": 2,
       "version_minor": 0
      },
      "text/plain": [
       "HBox(children=(FloatProgress(value=0.0, description='package', max=1.0, style=ProgressStyle(description_width=…"
      ]
     },
     "metadata": {},
     "output_type": "display_data"
    },
    {
     "name": "stdout",
     "output_type": "stream",
     "text": [
      "\n"
     ]
    },
    {
     "data": {
      "application/vnd.jupyter.widget-view+json": {
       "model_id": "105b6fcce92e4a338844a70b7a9059ef",
       "version_major": 2,
       "version_minor": 0
      },
      "text/plain": [
       "HBox(children=(FloatProgress(value=0.0, description='build report structure', max=1.0, style=ProgressStyle(des…"
      ]
     },
     "metadata": {},
     "output_type": "display_data"
    },
    {
     "name": "stdout",
     "output_type": "stream",
     "text": [
      "\n"
     ]
    }
   ],
   "source": [
    "profile = ProfileReport(q_1, title='Basic Report of variables', html={'style':{'full_width':True}})"
   ]
  },
  {
   "cell_type": "code",
   "execution_count": 10,
   "metadata": {},
   "outputs": [
    {
     "data": {
      "application/vnd.jupyter.widget-view+json": {
       "model_id": "4c3033557a6f41b19581a974311560bb",
       "version_major": 2,
       "version_minor": 0
      },
      "text/plain": [
       "Tab(children=(Tab(children=(GridBox(children=(VBox(children=(GridspecLayout(children=(HTML(value='Number of va…"
      ]
     },
     "metadata": {},
     "output_type": "display_data"
    },
    {
     "data": {
      "text/html": [
       "Report generated with <a href=\"https://github.com/pandas-profiling/pandas-profiling\">pandas-profiling</a>."
      ],
      "text/plain": [
       "<IPython.core.display.HTML object>"
      ]
     },
     "metadata": {},
     "output_type": "display_data"
    }
   ],
   "source": [
    "profile.to_widgets()"
   ]
  },
  {
   "cell_type": "markdown",
   "metadata": {},
   "source": [
    "Let's interpret one by one the output of each section. \n",
    "\n",
    "### 1. Overview-Warnings \n",
    "\n",
    "* **Missing**. Three columns `CARD_TYPE`, `ISSUER` and `COUNTRY_CODE` have less than 3% missing values. These variables come from the information of the card. `CARD_TYPE` appears to be the most relevant to take into consideration of the three to drop information because it allows us to gain insights like `it is more likely to stop using the CLIP device if the user got transactions from credit cards`.  \n",
    "\n",
    "* **High Cardinality**. It is highly possible that we need to group countries by continents or `ISSUER` by a major category. \n",
    "\n",
    "\n",
    "### 2. Variables\n",
    "\n",
    "We notice the following facts:\n",
    "\n",
    "* <span style=\"color:blue\"> Most of the transactions come from the state with code 09 and 15. </span>\n",
    "\n",
    "* The **top client** is `7aff077912...`.\n",
    "\n",
    "* <span style=\"color:blue\"> Most of the users are active. </span>\n",
    "\n",
    "* **Transactions** tend to **come from `Alimentos y Bebidas` and `Tiendas y público en general`**. It could be assumed that in general these are small and medium business because stores and restaurants like `Vips` or `Liverpool` have a terminal affiliated with a Bank. We'll further clarify this. \n",
    "\n",
    "* <span style=\"color:blue\"> Most of the transactions come from `DEBIT` cards. </span> These is highly interesting because getting a credit has some requirements or limitations that debit cards do not have. For example, consider how easy is for a person to get a card issued from Oxxo or MercadoLibre.  \n",
    "* The main issuers are top banks in Mexico like Bancomer, Banamex or Santander. It should be interesting to investigate what are the basic requirements for a person to get a debit card from this banks in order to further develop the inquiry of the last point. \n",
    "\n",
    "* <span style=\"color:blue\"> Most of the transactions are local (Mexico). </span>\n",
    "\n",
    "* Frequent transactions come from the `CLASSIC` device, this is the simple version of the CLIP devices. We could hypothize the following there is no competitive advantage for the user to make a trade-off between price and functionality of the device.\n",
    "\n",
    "* <span style=\"color:blue\"> The average ticket is nearly 1000 pesos, but the median is 200 pesos. </span> Therefore it seems that most of the users make transactions related to products or actions of first need,for example, if I go to a cornershop and I don't bring cash or I go to eat to a fonda. But we'll need to prove or reject this assumption.\n",
    "\n",
    "\n",
    "#### 3. Correlations\n",
    "\n",
    "The pearson correlation between `AMOUNT` and `IS_CHARGEBACK` is slightly positive, that is, when a chargeback occurs tends to be of a greater amount than when it doesn't occur. However, the spearman coefficient is close to cero, therefore we could not affirm that it necessarily increases the amount when a chargeback happens, further investigation is needed.  \n",
    "\n",
    "\n",
    "#### 4. Missing Values\n",
    "\n",
    "* The heatmap is showing us the **nullity correlation**. In this case, when `CARD_TYPE` is missing information, also the `ISSUER` and the `COUNTRY_CODE`. In fact, this are variables of the `CARD_DETAIL` table.\n",
    "\n",
    "* The dendogram allow us to correlate variable completion. In this case `ISSUER` predicts the missingness of information of `COUNTRY_CODE`, when one is missing so is the other one.   "
   ]
  }
 ],
 "metadata": {
  "kernelspec": {
   "display_name": "Python 3",
   "language": "python",
   "name": "python3"
  },
  "language_info": {
   "codemirror_mode": {
    "name": "ipython",
    "version": 3
   },
   "file_extension": ".py",
   "mimetype": "text/x-python",
   "name": "python",
   "nbconvert_exporter": "python",
   "pygments_lexer": "ipython3",
   "version": "3.7.4"
  }
 },
 "nbformat": 4,
 "nbformat_minor": 2
}
